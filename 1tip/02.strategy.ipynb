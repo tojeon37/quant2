{
 "cells": [
  {
   "cell_type": "markdown",
   "metadata": {},
   "source": [
    "알고리즘! 디테일!\n",
    "\n",
    "백테스트 : 효과성검증\n",
    "\n",
    "시장선택 - 시장파악 - 거래전략선택\n",
    "종목선정\n",
    "매수방법\n",
    "매도방법\n",
    "비중조절\n",
    "자금관리\n",
    "\n",
    "백테스트하고고 효과성이 있다면 그다음엔 효율성"
   ]
  }
 ],
 "metadata": {
  "language_info": {
   "name": "python"
  },
  "orig_nbformat": 4
 },
 "nbformat": 4,
 "nbformat_minor": 2
}
