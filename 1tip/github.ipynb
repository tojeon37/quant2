{
 "cells": [
  {
   "attachments": {},
   "cell_type": "markdown",
   "metadata": {},
   "source": [
    "https://www.youtube.com/watch?v=lelVripbt2M\n",
    "\n",
    "https://hackmd.io/@oW_dDxdsRoSpl0M64Tfg2g/ByfwpNJ-K\n",
    "\n",
    "git init\n",
    "초기화\n",
    "\n",
    "git add .\n",
    "추가할 파일 더하기\n",
    ".(점) 은 모든 파일이라는 뜻,\n",
    "선택적으로 올리고 싶으면 add뒤에 파일 이름 붙여주면 됨 (예. git add index.html)\n",
    "\n",
    "(git status\n",
    "상태 확인 (선택사항))\n",
    "\n",
    "git commit -m \"first commit\"\n",
    "히스토리 만들기\n",
    "-m 은 메세지의 준말로 뒤에 “” 안에 주고싶은 히스토리 이름을 주면 됨\n",
    "\n",
    "Github repository랑 내 로컬 프로젝트랑 연결\n",
    "\n",
    "git remote add origin https://github.com/tojeon37/quant.git\n",
    "이 명령어는 github에서 복사해서 붙여와야함 (유투브 강의 참조)\n",
    "\n",
    "git remote -v\n",
    "(잘 연결됬는지 확인)\n",
    "\n",
    "Github로 올리기\n",
    "git push origin master\n",
    "\n",
    "업데이트\n",
    "git add .\n",
    "저장하고 파일전부 추가하고\n",
    "\n",
    "git commit -m \"second commit\"\n",
    "히스토리 이름정해주고\n",
    "\n",
    "git push origin master\n",
    "올리기!\n",
    "\n",
    "git pull origin master  \n",
    ": 수정된 항목 내려받기\n",
    "\n",
    "git clone \"url\" \n",
    ": url에 있는 프로젝트 전체를 내려받는다.\n"
   ]
  },
  {
   "attachments": {},
   "cell_type": "markdown",
   "metadata": {},
   "source": [
    "\n"
   ]
  }
 ],
 "metadata": {
  "language_info": {
   "name": "python"
  },
  "orig_nbformat": 4
 },
 "nbformat": 4,
 "nbformat_minor": 2
}
