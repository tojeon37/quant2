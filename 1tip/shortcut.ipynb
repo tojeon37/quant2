{
 "cells": [
  {
   "attachments": {},
   "cell_type": "markdown",
   "metadata": {},
   "source": [
    "VS code 단축키\n",
    "command Pallette : ctrl+shift+p\n",
    "quick open : ctrl+p\n",
    "ctrl + b : 창 여닫\n",
    "ctrl + , : 환경설정\n",
    "ctrl + k +s : 키보드 단축키\n",
    "ctrl + enter : 다음줄로 바로 이동\n",
    "ctrl + d : 선택단어를 계속 누르면 하나씩 선택하여 한번에 변경가능\n"
   ]
  },
  {
   "attachments": {},
   "cell_type": "markdown",
   "metadata": {},
   "source": [
    "jupyter 단축키\n",
    "\n",
    "단축키\n",
    "shift+enter : 해당셀 실행\n",
    "\n",
    "a : 위쪽에 셀추가\n",
    "\n",
    "b : 아래쪽에 셀추가\n",
    "\n",
    "d,d : 셀삭제\n",
    "\n",
    "y : 셀을 코드로 변경\n",
    "\n",
    "m : 셀을 마크다운으로 변경\n"
   ]
  },
  {
   "attachments": {},
   "cell_type": "markdown",
   "metadata": {},
   "source": [
    "<제목>\n",
    "#제목\n",
    "##제목\n",
    "###제목3\n",
    "\n",
    "<인용구>\n",
    "> 중요한 것은 꺾이지 않는 마음\n",
    "\n",
    "<순서있는 목록>\n",
    "1. 첫번째.\n",
    "2. 두번째\n",
    "\n",
    "<순서없는 목록>\n",
    "- \n",
    "-\n",
    "-\n"
   ]
  },
  {
   "cell_type": "code",
   "execution_count": 3,
   "metadata": {},
   "outputs": [
    {
     "name": "stdout",
     "output_type": "stream",
     "text": [
      "hi\n"
     ]
    }
   ],
   "source": [
    "print(\"hi\")"
   ]
  }
 ],
 "metadata": {
  "kernelspec": {
   "display_name": "Python 3",
   "language": "python",
   "name": "python3"
  },
  "language_info": {
   "codemirror_mode": {
    "name": "ipython",
    "version": 3
   },
   "file_extension": ".py",
   "mimetype": "text/x-python",
   "name": "python",
   "nbconvert_exporter": "python",
   "pygments_lexer": "ipython3",
   "version": "3.10.5"
  },
  "orig_nbformat": 4
 },
 "nbformat": 4,
 "nbformat_minor": 2
}
