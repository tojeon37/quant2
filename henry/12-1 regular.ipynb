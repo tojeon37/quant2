{
 "cells": [
  {
   "cell_type": "markdown",
   "metadata": {},
   "source": [
    "문자열 처리를 위한 정규 표현식\n",
    "![Alt text](image-16.png)\n"
   ]
  },
  {
   "cell_type": "code",
   "execution_count": 4,
   "metadata": {},
   "outputs": [
    {
     "data": {
      "text/plain": [
       "['29.2%']"
      ]
     },
     "execution_count": 4,
     "metadata": {},
     "output_type": "execute_result"
    }
   ],
   "source": [
    "import re\n",
    "\n",
    "data = \"동 기업의 매출액은 전년 대비 29.2% 늘어났습니다.\"\n",
    "re.findall('\\d+.\\d+%',data)\n",
    "\n",
    "# 여기서 \\d 는 숫자, 숫자.숫자% 형태를 불러오라는 뜻"
   ]
  },
  {
   "cell_type": "markdown",
   "metadata": {},
   "source": [
    "![Alt text](image-17.png)"
   ]
  },
  {
   "cell_type": "markdown",
   "metadata": {},
   "source": [
    "![Alt text](image-18.png)\n"
   ]
  },
  {
   "cell_type": "markdown",
   "metadata": {},
   "source": [
    "![Alt text](image-19.png)"
   ]
  },
  {
   "cell_type": "markdown",
   "metadata": {},
   "source": [
    "![Alt text](image-20.png)\n",
    "\n",
    "dot는 하나의 문자만!"
   ]
  },
  {
   "cell_type": "markdown",
   "metadata": {},
   "source": [
    "![Alt text](image-21.png)"
   ]
  },
  {
   "cell_type": "markdown",
   "metadata": {},
   "source": [
    "![Alt text](image-22.png)"
   ]
  },
  {
   "cell_type": "markdown",
   "metadata": {},
   "source": [
    "![Alt text](image-24.png)"
   ]
  },
  {
   "cell_type": "markdown",
   "metadata": {},
   "source": [
    "![Alt text](image-25.png)"
   ]
  },
  {
   "cell_type": "code",
   "execution_count": 11,
   "metadata": {},
   "outputs": [
    {
     "name": "stdout",
     "output_type": "stream",
     "text": [
      "None\n"
     ]
    },
    {
     "data": {
      "text/plain": [
       "<re.Match object; span=(0, 6), match='PYTHON'>"
      ]
     },
     "execution_count": 11,
     "metadata": {},
     "output_type": "execute_result"
    }
   ],
   "source": [
    "import re #정규표현실을 불러오고 \n",
    "\n",
    "p = re.compile('[a-z]+') \n",
    "# re.compile()을 통해 정규 표현식을 컴파일하여 변수에 저장한 후 사용할 수 있음\n",
    "# [a-z]+ 에서 + 는 알파벳 소문자가 1부터 여러개까지를 의미하는 표현식\n",
    "type(p)\n",
    "#실행하면 컴파일된 정규 표현식 형태\n",
    "\n",
    "m = p.match('python')\n",
    "m\n",
    "#파이썬에서 컴파일한 정규 표현식과 일치하는 부분을 찾아라\n",
    "#<re.Match object; span=(0, 6), match='python'>\n",
    "\n",
    "#메치되는 단어만 뽑고 싶을때는\n",
    "m.group()\n",
    "\n",
    "print(p.match('Use python'))\n",
    "# match는 시작부터 일치하는 패턴을 찾는건데, 첫문자가 U 대문자여서 매치되지 않음 \n"
   ]
  },
  {
   "cell_type": "code",
   "execution_count": 13,
   "metadata": {},
   "outputs": [
    {
     "data": {
      "text/plain": [
       "<re.Match object; span=(0, 6), match='PYTHON'>"
      ]
     },
     "execution_count": 13,
     "metadata": {},
     "output_type": "execute_result"
    }
   ],
   "source": [
    "#만일 대문자 표현을 찾고 싶다면\n",
    "p = re.compile('[A-Z]+')\n",
    "p.match('PYTHON')\n",
    "#이렇게 하면 대문자를 매치해서 찾아준다."
   ]
  },
  {
   "cell_type": "code",
   "execution_count": 16,
   "metadata": {},
   "outputs": [
    {
     "data": {
      "text/plain": [
       "<re.Match object; span=(0, 3), match='파이썬'>"
      ]
     },
     "execution_count": 16,
     "metadata": {},
     "output_type": "execute_result"
    }
   ],
   "source": [
    "#한글을 매치하고 싶다면 모든한글을 뜻하는 [가-힣]\n",
    "t = re.compile('[가-힣]+')\n",
    "t.match('파이썬')"
   ]
  },
  {
   "cell_type": "code",
   "execution_count": 21,
   "metadata": {},
   "outputs": [
    {
     "data": {
      "text/plain": [
       "<re.Match object; span=(1, 3), match='se'>"
      ]
     },
     "execution_count": 21,
     "metadata": {},
     "output_type": "execute_result"
    }
   ],
   "source": [
    "#match()함수는 시작부터 일치하는 패턴을 찾는 반면\n",
    "#search()는 첫번재 일치 \n",
    "p = re.compile('[a-z]+')\n",
    "m = p.search('Use Pyton')\n",
    "m"
   ]
  },
  {
   "cell_type": "code",
   "execution_count": 28,
   "metadata": {},
   "outputs": [
    {
     "data": {
      "text/plain": [
       "['Life', 'is', 'too', 'short', 'You', 'need', 'Python']"
      ]
     },
     "execution_count": 28,
     "metadata": {},
     "output_type": "execute_result"
    }
   ],
   "source": [
    "#findall()은 모든 표현을 찾아준다\n",
    "p = re.compile('[a-zA-Z]+')\n",
    "m = p.findall('Life is too short, You need Python.')\n",
    "m"
   ]
  },
  {
   "cell_type": "code",
   "execution_count": 29,
   "metadata": {},
   "outputs": [
    {
     "data": {
      "text/plain": [
       "<callable_iterator at 0x67a7328>"
      ]
     },
     "execution_count": 29,
     "metadata": {},
     "output_type": "execute_result"
    }
   ],
   "source": [
    "#finditer()은 모든 패턴을 찾지만, 반복 가능한 객체를 반환해준다\n",
    "p = re.compile('[a-zA-Z]+')\n",
    "m = p.finditer('Life is too short, You need Python.')\n",
    "m"
   ]
  },
  {
   "cell_type": "code",
   "execution_count": 34,
   "metadata": {},
   "outputs": [],
   "source": [
    "for i in m:\n",
    "    print(i)\n"
   ]
  },
  {
   "cell_type": "code",
   "execution_count": 35,
   "metadata": {},
   "outputs": [
    {
     "data": {
      "text/plain": [
       "['2023.7.14']"
      ]
     },
     "execution_count": 35,
     "metadata": {},
     "output_type": "execute_result"
    }
   ],
   "source": [
    "\n",
    "dt= '>오늘의 날짜는 2023.7.14 입니다.'\n",
    "p=re.compile('[0-9]+.[0-9]+.[0-9]+')\n",
    "p.findall(dt)"
   ]
  },
  {
   "cell_type": "code",
   "execution_count": 36,
   "metadata": {},
   "outputs": [
    {
     "name": "stdout",
     "output_type": "stream",
     "text": [
      "['2023', '7', '14']\n"
     ]
    }
   ],
   "source": [
    "p=re.compile('[0-9]+')\n",
    "m=p.findall(dt)\n",
    "print(m)"
   ]
  },
  {
   "cell_type": "code",
   "execution_count": 37,
   "metadata": {},
   "outputs": [
    {
     "data": {
      "text/plain": [
       "'2023714'"
      ]
     },
     "execution_count": 37,
     "metadata": {},
     "output_type": "execute_result"
    }
   ],
   "source": [
    "#숫자가 합쳐지게 함\n",
    "\n",
    "''.join(m)"
   ]
  },
  {
   "cell_type": "code",
   "execution_count": null,
   "metadata": {},
   "outputs": [],
   "source": [
    "# https://regex101.com 에서 정규 표현식을 연습하고 테스트할수 있음\n"
   ]
  }
 ],
 "metadata": {
  "kernelspec": {
   "display_name": "Python 3",
   "language": "python",
   "name": "python3"
  },
  "language_info": {
   "codemirror_mode": {
    "name": "ipython",
    "version": 3
   },
   "file_extension": ".py",
   "mimetype": "text/x-python",
   "name": "python",
   "nbconvert_exporter": "python",
   "pygments_lexer": "ipython3",
   "version": "3.10.5"
  },
  "orig_nbformat": 4
 },
 "nbformat": 4,
 "nbformat_minor": 2
}
