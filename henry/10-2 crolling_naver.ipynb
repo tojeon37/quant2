{
 "cells": [
  {
   "cell_type": "code",
   "execution_count": 2,
   "metadata": {},
   "outputs": [
    {
     "data": {
      "text/plain": [
       "<Response [200]>"
      ]
     },
     "execution_count": 2,
     "metadata": {},
     "output_type": "execute_result"
    }
   ],
   "source": [
    "#이번엔 네이버 증권의 금융 속보를 추출해보기\n",
    "import requests as rq\n",
    "from bs4 import BeautifulSoup\n",
    "\n",
    "url = \"https://finance.naver.com/news/news_list.naver?mode=LSS2D&section_id=101&section_id2=258\"\n",
    "data = rq.get(url)\n",
    "html = BeautifulSoup(data.content)\n",
    "data"
   ]
  },
  {
   "cell_type": "markdown",
   "metadata": {},
   "source": [
    "![Alt text](image-12.png)\n",
    "\n",
    "제목부분 : dl 태그 -> class 가 articleSubject 인 dd태그 ->a태그 -> title 속성의 속성값"
   ]
  },
  {
   "cell_type": "code",
   "execution_count": 3,
   "metadata": {},
   "outputs": [
    {
     "data": {
      "text/plain": [
       "[<a href=\"/news/news_read.naver?article_id=0011970258&amp;office_id=003&amp;mode=LSS2D&amp;type=0&amp;section_id=101&amp;section_id2=258&amp;section_id3=&amp;date=20230713&amp;page=1\" title=\"한양로보틱스, 70억 규모 시리즈B 투자 유치\">한양로보틱스, 70억 규모 시리즈B 투자 유치</a>,\n",
       " <a href=\"/news/news_read.naver?article_id=0005041157&amp;office_id=014&amp;mode=LSS2D&amp;type=0&amp;section_id=101&amp;section_id2=258&amp;section_id3=&amp;date=20230713&amp;page=1\" title=\"[fn마켓워치]폐기물 신재생업체 '세명테크' 매각 눈 앞\">[fn마켓워치]폐기물 신재생업체 '세명테크' 매각 눈 앞</a>,\n",
       " <a href=\"/news/news_read.naver?article_id=0006924674&amp;office_id=421&amp;mode=LSS2D&amp;type=0&amp;section_id=101&amp;section_id2=258&amp;section_id3=&amp;date=20230713&amp;page=1\" title=\"한투운용 &quot;상반기 ACE ETF 키워드는 '글로벌'…개인 매수세 집중&quot;\">한투운용 \"상반기 ACE ETF 키워드는 '글로벌'…개인 매수세 집중\"</a>,\n",
       " <a href=\"/news/news_read.naver?article_id=0006924672&amp;office_id=421&amp;mode=LSS2D&amp;type=0&amp;section_id=101&amp;section_id2=258&amp;section_id3=&amp;date=20230713&amp;page=1\" title='유진證 \"미국 연준 금리 인상, 7월이 마지막…디스인플레 잘 진행 중\"'>유진證 \"미국 연준 금리 인상, 7월이 마지막…디스인플레 잘 진행 중\"</a>,\n",
       " <a href=\"/news/news_read.naver?article_id=0006924671&amp;office_id=421&amp;mode=LSS2D&amp;type=0&amp;section_id=101&amp;section_id2=258&amp;section_id3=&amp;date=20230713&amp;page=1\" title='블룸버그 \"인플레 비상사태 종료, 7월이 마지막 금리인상일 것\"'>블룸버그 \"인플레 비상사태 종료, 7월이 마지막 금리인상일 것\"</a>,\n",
       " <a href=\"/news/news_read.naver?article_id=0005528879&amp;office_id=018&amp;mode=LSS2D&amp;type=0&amp;section_id=101&amp;section_id2=258&amp;section_id3=&amp;date=20230713&amp;page=1\" title=\"시티, 테슬라·포드·GM 목표가 일제히 상향\">시티, 테슬라·포드·GM 목표가 일제히 상향</a>,\n",
       " <a href=\"/news/news_read.naver?article_id=0005528878&amp;office_id=018&amp;mode=LSS2D&amp;type=0&amp;section_id=101&amp;section_id2=258&amp;section_id3=&amp;date=20230713&amp;page=1\" title=\"에스바이오메딕스, 도파민세포 분화기술로 국제줄기세포학회서 수상\">에스바이오메딕스, 도파민세포 분화기술로 국제줄기세포학회서 수상</a>,\n",
       " <a href=\"/news/news_read.naver?article_id=0004213381&amp;office_id=011&amp;mode=LSS2D&amp;type=0&amp;section_id=101&amp;section_id2=258&amp;section_id3=&amp;date=20230713&amp;page=1\" title=\"‘붉은사막 개발력 부각’ 펄어비스 목표가 6만4000원 상향\">‘붉은사막 개발력 부각’ 펄어비스 목표가 6만4000원 상향</a>,\n",
       " <a href=\"/news/news_read.naver?article_id=0002813152&amp;office_id=029&amp;mode=LSS2D&amp;type=0&amp;section_id=101&amp;section_id2=258&amp;section_id3=&amp;date=20230713&amp;page=1\" title='다올투자 \"엔씨소프트, 하반기 성과 지켜봐야\"…투자의견 `매수`로 상향'>다올투자 \"엔씨소프트, 하반기 성과 지켜봐야\"…투자의견 `매수`로 상향</a>,\n",
       " <a href=\"/news/news_read.naver?article_id=0005528874&amp;office_id=018&amp;mode=LSS2D&amp;type=0&amp;section_id=101&amp;section_id2=258&amp;section_id3=&amp;date=20230713&amp;page=1\" title=\"HD현대중공업, 조선·해양 수주 호조…2Q 영업익 흑전-메리츠\">HD현대중공업, 조선·해양 수주 호조…2Q 영업익 흑전-메리츠</a>,\n",
       " <a href=\"/news/news_read.naver?article_id=0005528873&amp;office_id=018&amp;mode=LSS2D&amp;type=0&amp;section_id=101&amp;section_id2=258&amp;section_id3=&amp;date=20230713&amp;page=1\" title=\"[마켓인]뷰티스킨, 공모가 2만6000원…희망밴드 상단 초과\">[마켓인]뷰티스킨, 공모가 2만6000원…희망밴드 상단 초과</a>,\n",
       " <a href=\"/news/news_read.naver?article_id=0004911464&amp;office_id=008&amp;mode=LSS2D&amp;type=0&amp;section_id=101&amp;section_id2=258&amp;section_id3=&amp;date=20230713&amp;page=1\" title='\"판가 하락에 쉬어가는 에코프로비엠, 3분기 출하량 상승이 관건\"-교보'>\"판가 하락에 쉬어가는 에코프로비엠, 3분기 출하량 상승이 관건\"-교보</a>,\n",
       " <a href=\"/news/news_read.naver?article_id=0006924668&amp;office_id=421&amp;mode=LSS2D&amp;type=0&amp;section_id=101&amp;section_id2=258&amp;section_id3=&amp;date=20230713&amp;page=1\" title='유진證 \"카카오, SM 상각비·AI 투자 실적에 변수…목표가 8.6% 하향\"'>유진證 \"카카오, SM 상각비·AI 투자 실적에 변수…목표가 8.6% 하향\"</a>,\n",
       " <a href=\"/news/news_read.naver?article_id=0000758551&amp;office_id=031&amp;mode=LSS2D&amp;type=0&amp;section_id=101&amp;section_id2=258&amp;section_id3=&amp;date=20230713&amp;page=1\" title=\"삼성바이오로직스, 실적은 이제 상승 구간-현대차\">삼성바이오로직스, 실적은 이제 상승 구간-현대차</a>,\n",
       " <a href=\"/news/news_read.naver?article_id=0014062930&amp;office_id=001&amp;mode=LSS2D&amp;type=0&amp;section_id=101&amp;section_id2=258&amp;section_id3=&amp;date=20230713&amp;page=1\" title='DB금융 \"에코프로비엠, 단기 실적 변동성 확대 가능성\"'>DB금융 \"에코프로비엠, 단기 실적 변동성 확대 가능성\"</a>,\n",
       " <a href=\"/news/news_read.naver?article_id=0005528869&amp;office_id=018&amp;mode=LSS2D&amp;type=0&amp;section_id=101&amp;section_id2=258&amp;section_id3=&amp;date=20230713&amp;page=1\" title=\"NDF, 1272.8원/1273.2원…13.7원 하락\">NDF, 1272.8원/1273.2원…13.7원 하락</a>,\n",
       " <a href=\"/news/news_read.naver?article_id=0005528866&amp;office_id=018&amp;mode=LSS2D&amp;type=0&amp;section_id=101&amp;section_id2=258&amp;section_id3=&amp;date=20230713&amp;page=1\" title=\"[뉴스새벽배송]美 물가 둔화세에 뉴욕증시 일제히 반등…나스닥 1.15%↑\">[뉴스새벽배송]美 물가 둔화세에 뉴욕증시 일제히 반등…나스닥 1.15%↑</a>,\n",
       " <a href=\"/news/news_read.naver?article_id=0002168944&amp;office_id=016&amp;mode=LSS2D&amp;type=0&amp;section_id=101&amp;section_id2=258&amp;section_id3=&amp;date=20230713&amp;page=1\" title=\"“에코프로 100만원에 들어가 마이너스 2800만원”…‘상투’ 논란에 개미들 손실주의보 [투자360]\">“에코프로 100만원에 들어가 마이너스 2800만원”…‘상투’ 논란에 개미들 손실주의보 [..</a>,\n",
       " <a href=\"/news/news_read.naver?article_id=0000916314&amp;office_id=366&amp;mode=LSS2D&amp;type=0&amp;section_id=101&amp;section_id2=258&amp;section_id3=&amp;date=20230713&amp;page=1\" title=\"한투證 “JYP, 올 상반기 영업익 지난해 연간 수준… 목표가 상향”\">한투證 “JYP, 올 상반기 영업익 지난해 연간 수준… 목표가 상향”</a>,\n",
       " <a href=\"/news/news_read.naver?article_id=0011970242&amp;office_id=003&amp;mode=LSS2D&amp;type=0&amp;section_id=101&amp;section_id2=258&amp;section_id3=&amp;date=20230713&amp;page=1\" title='신영證 \"넥센타이어, 운반비와 원재료 부담 완화 기대\"'>신영證 \"넥센타이어, 운반비와 원재료 부담 완화 기대\"</a>]"
      ]
     },
     "execution_count": 3,
     "metadata": {},
     "output_type": "execute_result"
    }
   ],
   "source": [
    "html_select = html.select('dl>dd.articleSubject>a')\n",
    "html_select "
   ]
  },
  {
   "cell_type": "code",
   "execution_count": 4,
   "metadata": {},
   "outputs": [
    {
     "data": {
      "text/plain": [
       "'한양로보틱스, 70억 규모 시리즈B 투자 유치'"
      ]
     },
     "execution_count": 4,
     "metadata": {},
     "output_type": "execute_result"
    }
   ],
   "source": [
    "html_select[0]['title']"
   ]
  },
  {
   "cell_type": "code",
   "execution_count": 5,
   "metadata": {},
   "outputs": [
    {
     "data": {
      "text/plain": [
       "['한양로보틱스, 70억 규모 시리즈B 투자 유치',\n",
       " \"[fn마켓워치]폐기물 신재생업체 '세명테크' 매각 눈 앞\",\n",
       " '한투운용 \"상반기 ACE ETF 키워드는 \\'글로벌\\'…개인 매수세 집중\"',\n",
       " '유진證 \"미국 연준 금리 인상, 7월이 마지막…디스인플레 잘 진행 중\"',\n",
       " '블룸버그 \"인플레 비상사태 종료, 7월이 마지막 금리인상일 것\"',\n",
       " '시티, 테슬라·포드·GM 목표가 일제히 상향',\n",
       " '에스바이오메딕스, 도파민세포 분화기술로 국제줄기세포학회서 수상',\n",
       " '‘붉은사막 개발력 부각’ 펄어비스 목표가 6만4000원 상향',\n",
       " '다올투자 \"엔씨소프트, 하반기 성과 지켜봐야\"…투자의견 `매수`로 상향',\n",
       " 'HD현대중공업, 조선·해양 수주 호조…2Q 영업익 흑전-메리츠',\n",
       " '[마켓인]뷰티스킨, 공모가 2만6000원…희망밴드 상단 초과',\n",
       " '\"판가 하락에 쉬어가는 에코프로비엠, 3분기 출하량 상승이 관건\"-교보',\n",
       " '유진證 \"카카오, SM 상각비·AI 투자 실적에 변수…목표가 8.6% 하향\"',\n",
       " '삼성바이오로직스, 실적은 이제 상승 구간-현대차',\n",
       " 'DB금융 \"에코프로비엠, 단기 실적 변동성 확대 가능성\"',\n",
       " 'NDF, 1272.8원/1273.2원…13.7원 하락',\n",
       " '[뉴스새벽배송]美 물가 둔화세에 뉴욕증시 일제히 반등…나스닥 1.15%↑',\n",
       " '“에코프로 100만원에 들어가 마이너스 2800만원”…‘상투’ 논란에 개미들 손실주의보 [투자360]',\n",
       " '한투證 “JYP, 올 상반기 영업익 지난해 연간 수준… 목표가 상향”',\n",
       " '신영證 \"넥센타이어, 운반비와 원재료 부담 완화 기대\"']"
      ]
     },
     "execution_count": 5,
     "metadata": {},
     "output_type": "execute_result"
    }
   ],
   "source": [
    "[i['title'] for i in html_select]"
   ]
  },
  {
   "cell_type": "code",
   "execution_count": 6,
   "metadata": {},
   "outputs": [
    {
     "data": {
      "text/plain": [
       "[          Country  Total market cap (in mil. US$)[2]   \n",
       " 0   United States                           44719661  \\\n",
       " 1           China                           13214311   \n",
       " 2           Japan                            6718220   \n",
       " 3       Hong Kong                            6130420   \n",
       " 4           India                            3210000   \n",
       " ..            ...                                ...   \n",
       " 95        Algeria                                371   \n",
       " 96       Paraguay                                313   \n",
       " 97        Uruguay                                284   \n",
       " 98       Eswatini                                234   \n",
       " 99        Bermuda                                220   \n",
       " \n",
       "     Total market cap (% of GDP)[3] Number of domestic companies listed[4]   \n",
       " 0                            194.5                                   4266  \\\n",
       " 1                             83.0                                   4154   \n",
       " 2                            122.2                                   3754   \n",
       " 3                           1768.8                                   2353   \n",
       " 4                            100.0                                   5215   \n",
       " ..                             ...                                    ...   \n",
       " 95                             0.2                                    ...   \n",
       " 96                             3.5                                     55   \n",
       " 97                             1.4                                     17   \n",
       " 98                             6.8                                      6   \n",
       " 99                            39.6                                     13   \n",
       " \n",
       "     Year  \n",
       " 0   2020  \n",
       " 1   2020  \n",
       " 2   2020  \n",
       " 3   2020  \n",
       " 4   2021  \n",
       " ..   ...  \n",
       " 95  2018  \n",
       " 96  1999  \n",
       " 97  1996  \n",
       " 98  2007  \n",
       " 99  2020  \n",
       " \n",
       " [100 rows x 5 columns],\n",
       "     Year  World market cap (in mil. US$)  World market cap (% of GDP)   \n",
       " 0   1975                         1149245                         27.2  \\\n",
       " 1   1980                         2525736                         29.6   \n",
       " 2   1985                         4684978                         47.0   \n",
       " 3   1990                         9519107                         50.8   \n",
       " 4   1991                        11340785                         56.8   \n",
       " 5   1992                        10819256                         50.2   \n",
       " 6   1993                        13897390                         61.7   \n",
       " 7   1994                        14639924                         60.9   \n",
       " 8   1995                        17263728                         64.0   \n",
       " 9   1996                        19806691                         72.3   \n",
       " 10  1997                        22029761                         80.7   \n",
       " 11  1998                        24555201                         89.6   \n",
       " 12  1999                        33181159                        115.1   \n",
       " 13  2000                        30925434                        101.1   \n",
       " 14  2001                        26792162                         88.4   \n",
       " 15  2002                        22802792                         72.7   \n",
       " 16  2003                        31107425                         84.9   \n",
       " 17  2004                        36540980                         89.2   \n",
       " 18  2005                        40512446                         92.6   \n",
       " 19  2006                        50074966                        106.1   \n",
       " 20  2007                        60456082                        114.0   \n",
       " 21  2008                        32418516                         56.2   \n",
       " 22  2009                        47471293                         83.8   \n",
       " 23  2010                        54259518                         87.3   \n",
       " 24  2011                        47521341                         68.8   \n",
       " 25  2012                        54503237                         78.4   \n",
       " 26  2013                        64367842                         89.0   \n",
       " 27  2014                        67177254                         90.3   \n",
       " 28  2015                        62268184                         94.5   \n",
       " 29  2016                        65117714                         97.1   \n",
       " 30  2017                        79501948                        111.1   \n",
       " 31  2018                        68893044                         91.9   \n",
       " 32  2019                        78825583                        108.4   \n",
       " 33  2020                        93686226                        134.7   \n",
       " \n",
       "     Number of listed companies  \n",
       " 0                      14577.0  \n",
       " 1                      17273.0  \n",
       " 2                      20555.0  \n",
       " 3                      23732.0  \n",
       " 4                      24666.0  \n",
       " 5                      24947.0  \n",
       " 6                      28300.0  \n",
       " 7                      30290.0  \n",
       " 8                      33379.0  \n",
       " 9                      35617.0  \n",
       " 10                     36946.0  \n",
       " 11                     37928.0  \n",
       " 12                     38414.0  \n",
       " 13                     39892.0  \n",
       " 14                     40157.0  \n",
       " 15                     38894.0  \n",
       " 16                     41051.0  \n",
       " 17                     38724.0  \n",
       " 18                     39096.0  \n",
       " 19                     43104.0  \n",
       " 20                     44034.0  \n",
       " 21                     43949.0  \n",
       " 22                     42669.0  \n",
       " 23                     43427.0  \n",
       " 24                     44323.0  \n",
       " 25                     43772.0  \n",
       " 26                     44853.0  \n",
       " 27                     45743.0  \n",
       " 28                     43983.0  \n",
       " 29                     43806.0  \n",
       " 30                     43440.0  \n",
       " 31                     43554.0  \n",
       " 32                     43248.0  \n",
       " 33                         NaN  ,\n",
       "    .mw-parser-output .navbar{display:inline;font-size:88%;font-weight:normal}.mw-parser-output .navbar-collapse{float:left;text-align:left}.mw-parser-output .navbar-boxtext{word-spacing:0}.mw-parser-output .navbar ul{display:inline-block;white-space:nowrap;line-height:inherit}.mw-parser-output .navbar-brackets::before{margin-right:-0.125em;content:\"[ \"}.mw-parser-output .navbar-brackets::after{margin-left:-0.125em;content:\" ]\"}.mw-parser-output .navbar li{word-spacing:-0.125em}.mw-parser-output .navbar a>span,.mw-parser-output .navbar a>abbr{text-decoration:inherit}.mw-parser-output .navbar-mini abbr{font-variant:small-caps;border-bottom:none;text-decoration:none;cursor:inherit}.mw-parser-output .navbar-ct-full{font-size:114%;margin:0 7em}.mw-parser-output .navbar-ct-mini{font-size:114%;margin:0 4em}vteEconomic classification of countries   \n",
       " 0   Developed country Developing country Least dev...                                                                                                                                                                                                                                                                                                                                                                                                                                                                                                                                                                                                                                                                                                                                                                                                                               \\\n",
       " 1                                   Three-World Model                                                                                                                                                                                                                                                                                                                                                                                                                                                                                                                                                                                                                                                                                                                                                                                                                                \n",
       " 2                        Gross domestic product (GDP)                                                                                                                                                                                                                                                                                                                                                                                                                                                                                                                                                                                                                                                                                                                                                                                                                                \n",
       " 3                                             Nominal                                                                                                                                                                                                                                                                                                                                                                                                                                                                                                                                                                                                                                                                                                                                                                                                                                \n",
       " 4                       Purchasing power parity (PPP)                                                                                                                                                                                                                                                                                                                                                                                                                                                                                                                                                                                                                                                                                                                                                                                                                                \n",
       " 5                         Gross national income (GNI)                                                                                                                                                                                                                                                                                                                                                                                                                                                                                                                                                                                                                                                                                                                                                                                                                                \n",
       " 6                                               Wages                                                                                                                                                                                                                                                                                                                                                                                                                                                                                                                                                                                                                                                                                                                                                                                                                                \n",
       " 7                                              Wealth                                                                                                                                                                                                                                                                                                                                                                                                                                                                                                                                                                                                                                                                                                                                                                                                                                \n",
       " 8                             Other national accounts                                                                                                                                                                                                                                                                                                                                                                                                                                                                                                                                                                                                                                                                                                                                                                                                                                \n",
       " 9                                   Human development                                                                                                                                                                                                                                                                                                                                                                                                                                                                                                                                                                                                                                                                                                                                                                                                                                \n",
       " 10                                     Digital divide                                                                                                                                                                                                                                                                                                                                                                                                                                                                                                                                                                                                                                                                                                                                                                                                                                \n",
       " 11       Net international investment position (NIIP)                                                                                                                                                                                                                                                                                                                                                                                                                                                                                                                                                                                                                                                                                                                                                                                                                                \n",
       " 12                    Economics portal • World portal                                                                                                                                                                                                                                                                                                                                                                                                                                                                                                                                                                                                                                                                                                                                                                                                                                \n",
       " \n",
       "    .mw-parser-output .navbar{display:inline;font-size:88%;font-weight:normal}.mw-parser-output .navbar-collapse{float:left;text-align:left}.mw-parser-output .navbar-boxtext{word-spacing:0}.mw-parser-output .navbar ul{display:inline-block;white-space:nowrap;line-height:inherit}.mw-parser-output .navbar-brackets::before{margin-right:-0.125em;content:\"[ \"}.mw-parser-output .navbar-brackets::after{margin-left:-0.125em;content:\" ]\"}.mw-parser-output .navbar li{word-spacing:-0.125em}.mw-parser-output .navbar a>span,.mw-parser-output .navbar a>abbr{text-decoration:inherit}.mw-parser-output .navbar-mini abbr{font-variant:small-caps;border-bottom:none;text-decoration:none;cursor:inherit}.mw-parser-output .navbar-ct-full{font-size:114%;margin:0 7em}.mw-parser-output .navbar-ct-mini{font-size:114%;margin:0 4em}vteEconomic classification of countries.1  \n",
       " 0   Developed country Developing country Least dev...                                                                                                                                                                                                                                                                                                                                                                                                                                                                                                                                                                                                                                                                                                                                                                                                                                 \n",
       " 1   First World Second World Third World Fourth World                                                                                                                                                                                                                                                                                                                                                                                                                                                                                                                                                                                                                                                                                                                                                                                                                                 \n",
       " 2   Nominal By country past and projected per capi...                                                                                                                                                                                                                                                                                                                                                                                                                                                                                                                                                                                                                                                                                                                                                                                                                                 \n",
       " 3   By country past and projected per capita per c...                                                                                                                                                                                                                                                                                                                                                                                                                                                                                                                                                                                                                                                                                                                                                                                                                                 \n",
       " 4   By country future estimates per capita per cap...                                                                                                                                                                                                                                                                                                                                                                                                                                                                                                                                                                                                                                                                                                                                                                                                                                 \n",
       " 5   (Nominal, Atlas method) per capita (PPP) per c...                                                                                                                                                                                                                                                                                                                                                                                                                                                                                                                                                                                                                                                                                                                                                                                                                                 \n",
       " 6   Average wage Europe Employee compensation (per...                                                                                                                                                                                                                                                                                                                                                                                                                                                                                                                                                                                                                                                                                                                                                                                                                                 \n",
       " 7   Wealth per adult Europe Financial assets per c...                                                                                                                                                                                                                                                                                                                                                                                                                                                                                                                                                                                                                                                                                                                                                                                                                                 \n",
       " 8   Gross National Happiness Net material product ...                                                                                                                                                                                                                                                                                                                                                                                                                                                                                                                                                                                                                                                                                                                                                                                                                                 \n",
       " 9   Human Development Index by country inequality-...                                                                                                                                                                                                                                                                                                                                                                                                                                                                                                                                                                                                                                                                                                                                                                                                                                 \n",
       " 10  ICT Development Index Number of broadband Inte...                                                                                                                                                                                                                                                                                                                                                                                                                                                                                                                                                                                                                                                                                                                                                                                                                                 \n",
       " 11        Per capita (creditors) Per capita (debtors)                                                                                                                                                                                                                                                                                                                                                                                                                                                                                                                                                                                                                                                                                                                                                                                                                                 \n",
       " 12                    Economics portal • World portal                                                                                                                                                                                                                                                                                                                                                                                                                                                                                                                                                                                                                                                                                                                                                                                                                                 ,\n",
       "                                0   \n",
       " 0                        Nominal  \\\n",
       " 1  Purchasing power parity (PPP)   \n",
       " \n",
       "                                                    1  \n",
       " 0  By country past and projected per capita per c...  \n",
       " 1  By country future estimates per capita per cap...  ]"
      ]
     },
     "execution_count": 6,
     "metadata": {},
     "output_type": "execute_result"
    }
   ],
   "source": [
    "# 이번엔 표를 가져와보자. pandas의 read_html로 간단히 불러올수 있다.\n",
    "\n",
    "import pandas as pd\n",
    "url = \"https://en.wikipedia.org/wiki/List_of_countries_by_stock_market_capitalization\"\n",
    "tbl = pd.read_html(url)\n",
    "tbl\n"
   ]
  },
  {
   "cell_type": "code",
   "execution_count": 7,
   "metadata": {},
   "outputs": [],
   "source": [
    "#이번엔 post방식 url을 크롤링해본다.\n",
    "#post방식은 요청쿼리가 body에 속해 있으므로 f12 로 해당쿼리 내용을 확인해야함.\n"
   ]
  },
  {
   "cell_type": "code",
   "execution_count": 20,
   "metadata": {},
   "outputs": [
    {
     "data": {
      "text/plain": [
       "[                   Å×¸¶¸í ÀüÀÏ´ëºñ ÃÖ±Ù3ÀÏ µî¶ô·ü(Æò±Õ) ÀüÀÏ´ëºñ µî¶ôÇöÈ²   \n",
       "                    Å×¸¶¸í ÀüÀÏ´ëºñ ÃÖ±Ù3ÀÏ µî¶ô·ü(Æò±Õ)              »ó½Â   \n",
       " 0                     NaN      NaN                  NaN               NaN  \\\n",
       " 1      K-´ºµôÁö¼ö(¹ÙÀÌ¿À)   +3.14%               +1.10%              12.0   \n",
       " 2      À¯ÀüÀÚ Ä¡·áÁ¦/ºÐ¼®   +3.07%               +0.19%              28.0   \n",
       " 3         Å©·¡ÇÁÅæ °ü·ÃÁÖ   +2.81%               +0.87%               7.0   \n",
       " 4                 LEDÀåºñ   +2.76%               +1.19%              11.0   \n",
       " ..                    ...      ...                  ...               ...   \n",
       " 59   ¹ÙÀÌ¿ÀÀÎ½Ä(»ýÃ¼ÀÎ½Ä)   +1.50%               +0.06%              14.0   \n",
       " 60               ÀÇ·á±â±â   +1.48%               +0.19%              57.0   \n",
       " 61  °¡»óÈ­Æó(ºñÆ®ÄÚÀÎ µî)   +1.48%               +0.84%              19.0   \n",
       " 62                    NaN      NaN                  NaN               NaN   \n",
       " 63                    NaN      NaN                  NaN               NaN   \n",
       " \n",
       "                      ÁÖµµÁÖ                \n",
       "    º¸ÇÕ  ÇÏ¶ô        ÁÖµµÁÖ      ÁÖµµÁÖ.1  \n",
       " 0   NaN   NaN           NaN           NaN  \n",
       " 1   1.0   0.0  ¼¿Æ®¸®¿ÂÁ¦..  ¼¿Æ®¸®¿ÂÇï..  \n",
       " 2   2.0   6.0  Áø¿ø»ý¸í°ú..  ½ÅÅ×Ä«¹ÙÀÌ..  \n",
       " 3   0.0   1.0          ³ÜÆª  Ä«Ä«¿À°ÔÀÓ..  \n",
       " 4   3.0   1.0    ÇÑ¹Ì¹ÝµµÃ¼        ÇÁ·ÎÅØ  \n",
       " ..  ...   ...           ...           ...  \n",
       " 59  4.0   6.0    Áö³ªÀÎÁ¦¾à        ¾ËÃ¼¶ó  \n",
       " 60  8.0  17.0      ³ª³ë¿£ÅØ          ºä³ë  \n",
       " 61  7.0   5.0    ¾ÆÀÌ¿ÀÄÉÀÌ     SCIÆò°¡..  \n",
       " 62  NaN   NaN           NaN           NaN  \n",
       " 63  NaN   NaN           NaN           NaN  \n",
       " \n",
       " [64 rows x 8 columns],\n",
       "    0  1  2  3  4  5  6     7\n",
       " 0  1  2  3  4  5  6  7  ¸ÇµÚ,\n",
       "     0            1       2   3\n",
       " 0 NaN     ¿¡ÄÚÇÁ·Î  913000 NaN\n",
       " 1 NaN  POSCOÈ¦µù½º  427500 NaN\n",
       " 2 NaN     »ï¼ºÀüÀÚ   72400 NaN\n",
       " 3 NaN         ±Ý¾ç   90100 NaN\n",
       " 4 NaN     »ïºÎÅä°Ç    4980 NaN]"
      ]
     },
     "execution_count": 20,
     "metadata": {},
     "output_type": "execute_result"
    }
   ],
   "source": [
    "#네이버금융- 테마-최근3일 등락률 표를 구해와서 상위 3개의 테마를 표로 만들어본다.\n",
    "\n",
    "import pandas as pd\n",
    "url = \"https://finance.naver.com/sise/theme.naver\"\n",
    "tbl2 = pd.read_html(url)\n",
    "tbl2"
   ]
  },
  {
   "cell_type": "code",
   "execution_count": null,
   "metadata": {},
   "outputs": [],
   "source": []
  }
 ],
 "metadata": {
  "kernelspec": {
   "display_name": "Python 3",
   "language": "python",
   "name": "python3"
  },
  "language_info": {
   "codemirror_mode": {
    "name": "ipython",
    "version": 3
   },
   "file_extension": ".py",
   "mimetype": "text/x-python",
   "name": "python",
   "nbconvert_exporter": "python",
   "pygments_lexer": "ipython3",
   "version": "3.10.5"
  },
  "orig_nbformat": 4
 },
 "nbformat": 4,
 "nbformat_minor": 2
}
